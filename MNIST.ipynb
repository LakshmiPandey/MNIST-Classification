{
  "nbformat": 4,
  "nbformat_minor": 0,
  "metadata": {
    "colab": {
      "name": "MNIST.ipynb",
      "version": "0.3.2",
      "provenance": [],
      "collapsed_sections": [],
      "include_colab_link": true
    },
    "kernelspec": {
      "name": "python3",
      "display_name": "Python 3"
    },
    "accelerator": "GPU"
  },
  "cells": [
    {
      "cell_type": "markdown",
      "metadata": {
        "id": "view-in-github",
        "colab_type": "text"
      },
      "source": [
        "<a href=\"https://colab.research.google.com/github/aarna97pandey/MNIST-Classification/blob/master/MNIST.ipynb\" target=\"_parent\"><img src=\"https://colab.research.google.com/assets/colab-badge.svg\" alt=\"Open In Colab\"/></a>"
      ]
    },
    {
      "metadata": {
        "id": "sDY8n-I2lYzs",
        "colab_type": "code",
        "colab": {}
      },
      "cell_type": "code",
      "source": [
        "import struct as st\n",
        "import numpy as np \n",
        "import cv2"
      ],
      "execution_count": 0,
      "outputs": []
    },
    {
      "metadata": {
        "id": "tlA0lDpZnUMO",
        "colab_type": "code",
        "colab": {}
      },
      "cell_type": "code",
      "source": [
        "from google.colab import drive"
      ],
      "execution_count": 0,
      "outputs": []
    },
    {
      "metadata": {
        "id": "-dVj_atFnX15",
        "colab_type": "code",
        "colab": {}
      },
      "cell_type": "code",
      "source": [
        "drive.mount('/content/gdrive')"
      ],
      "execution_count": 0,
      "outputs": []
    },
    {
      "metadata": {
        "id": "VFIdwM2o0nf-",
        "colab_type": "code",
        "colab": {}
      },
      "cell_type": "code",
      "source": [
        "train_filename = {'images' : 'train-images.idx3-ubyte' ,'labels' : 'train-labels.idx1-ubyte'}\n",
        "train_imagesfile = open('/content/gdrive/My Drive/Colab Notebooks/'+train_filename['images'],'rb')"
      ],
      "execution_count": 0,
      "outputs": []
    },
    {
      "metadata": {
        "id": "iuoXPXno1BJw",
        "colab_type": "code",
        "colab": {}
      },
      "cell_type": "code",
      "source": [
        "train_imagesfile.seek(0)\n",
        "magic = st.unpack('>4B',train_imagesfile.read(4))\n",
        "\n",
        "nImg = st.unpack('>I',train_imagesfile.read(4))[0] #num of images\n",
        "nR = st.unpack('>I',train_imagesfile.read(4))[0] #num of rows\n",
        "nC = st.unpack('>I',train_imagesfile.read(4))[0] #num of column\n",
        "images_array = np.zeros((nImg,nR,nC))\n",
        "nBytesTotal = nImg*nR*nC*1 #since each pixel data is 1 byte\n",
        "images_array = 255 - np.asarray(st.unpack('>'+'B'*nBytesTotal,train_imagesfile.read(nBytesTotal))).reshape((nImg,nR,nC))\n",
        "images_array = np.array(images_array) "
      ],
      "execution_count": 0,
      "outputs": []
    },
    {
      "metadata": {
        "id": "P_CcJ-uGHxE6",
        "colab_type": "code",
        "outputId": "23853f8e-0849-4e14-ff89-a6af51f8cdb2",
        "colab": {
          "base_uri": "https://localhost:8080/",
          "height": 35
        }
      },
      "cell_type": "code",
      "source": [
        "train_labels = open('/content/gdrive/My Drive/Colab Notebooks/'+train_filename['labels'],'rb')\n",
        "magic, num = st.unpack(\">II\", train_labels.read(8))\n",
        "labels = np.fromfile(train_labels, dtype=np.int8)\n",
        "#labels = labels.reshape(labels.shape[0], 1)\n",
        "#labels = np.reshape(labels, (np.product(labels.shape, 1)))\n",
        "print(labels.shape)"
      ],
      "execution_count": 6,
      "outputs": [
        {
          "output_type": "stream",
          "text": [
            "(60000,)\n"
          ],
          "name": "stdout"
        }
      ]
    },
    {
      "metadata": {
        "colab_type": "code",
        "id": "ksHUqALTHzW2",
        "colab": {}
      },
      "cell_type": "code",
      "source": [
        "x_train = images_array\n",
        "y_train = labels"
      ],
      "execution_count": 0,
      "outputs": []
    },
    {
      "metadata": {
        "id": "XT9lkUFqBrNG",
        "colab_type": "code",
        "outputId": "407c709a-6c48-450a-e499-86844f962f8a",
        "colab": {
          "base_uri": "https://localhost:8080/",
          "height": 365
        }
      },
      "cell_type": "code",
      "source": [
        "import matplotlib.pyplot as plt\n",
        "\n",
        "#plot the first image in the dataset\n",
        "plt.imshow(x_train[0])\n",
        "x_train[0].shape\n",
        "y_train[0]\n"
      ],
      "execution_count": 8,
      "outputs": [
        {
          "output_type": "execute_result",
          "data": {
            "text/plain": [
              "5"
            ]
          },
          "metadata": {
            "tags": []
          },
          "execution_count": 8
        },
        {
          "output_type": "display_data",
          "data": {
            "image/png": "[encoded data removed]",
            "text/plain": [
              "<matplotlib.figure.Figure at 0x7f83c554af28>"
            ]
          },
          "metadata": {
            "tags": []
          }
        }
      ]
    },
    {
      "metadata": {
        "id": "dGfbhaoQCON7",
        "colab_type": "code",
        "outputId": "67d2b492-bfe6-4b47-ff23-1e769ea47848",
        "colab": {
          "base_uri": "https://localhost:8080/",
          "height": 35
        }
      },
      "cell_type": "code",
      "source": [
        "x_train = x_train.reshape(images_array.shape[0],images_array.shape[1]*images_array.shape[2])\n",
        "x_train.shape"
      ],
      "execution_count": 9,
      "outputs": [
        {
          "output_type": "execute_result",
          "data": {
            "text/plain": [
              "(60000, 784)"
            ]
          },
          "metadata": {
            "tags": []
          },
          "execution_count": 9
        }
      ]
    },
    {
      "metadata": {
        "id": "D2lkG2Kgm-WP",
        "colab_type": "code",
        "colab": {
          "base_uri": "https://localhost:8080/",
          "height": 72
        },
        "outputId": "df330334-7c92-4a66-c6db-ddae1bdff45d"
      },
      "cell_type": "code",
      "source": [
        "# Fitting K-NN to the Training set\n",
        "from sklearn.neighbors import KNeighborsClassifier\n",
        "classifier = KNeighborsClassifier(n_neighbors = 5, metric = 'minkowski', p = 2)\n",
        "classifier.fit(x_train, y_train)"
      ],
      "execution_count": 10,
      "outputs": [
        {
          "output_type": "execute_result",
          "data": {
            "text/plain": [
              "KNeighborsClassifier(algorithm='auto', leaf_size=30, metric='minkowski',\n",
              "           metric_params=None, n_jobs=1, n_neighbors=5, p=2,\n",
              "           weights='uniform')"
            ]
          },
          "metadata": {
            "tags": []
          },
          "execution_count": 10
        }
      ]
    },
    {
      "metadata": {
        "id": "oT9DV0NqrIV-",
        "colab_type": "code",
        "colab": {}
      },
      "cell_type": "code",
      "source": [
        "test_filename = {'images' : 't10k-images.idx3-ubyte' ,'labels' : 't10k-labels.idx1-ubyte'}\n",
        "test_imagesfile = open('/content/gdrive/My Drive/Colab Notebooks/'+test_filename['images'],'rb')\n"
      ],
      "execution_count": 0,
      "outputs": []
    },
    {
      "metadata": {
        "id": "vXuUh6XZrXtW",
        "colab_type": "code",
        "colab": {}
      },
      "cell_type": "code",
      "source": [
        "# test dataset preprocessing\n",
        "test_imagesfile.seek(0)\n",
        "magic = st.unpack('>4B',test_imagesfile.read(4))\n",
        "\n",
        "nImg_test = st.unpack('>I',test_imagesfile.read(4))[0] #num of images\n",
        "nR_test = st.unpack('>I',test_imagesfile.read(4))[0] #num of rows\n",
        "nC_test = st.unpack('>I',test_imagesfile.read(4))[0] #num of column\n",
        "images_array_test = np.zeros((nImg_test,nR_test,nC_test))\n",
        "nBytesTotal = nImg_test*nR_test*nC_test*1 #since each pixel data is 1 byte\n",
        "images_array_test = 255 - np.asarray(st.unpack('>'+'B'*nBytesTotal,test_imagesfile.read(nBytesTotal))).reshape((nImg_test,nR_test,nC_test))\n",
        "images_array_test = np.array(images_array_test) "
      ],
      "execution_count": 0,
      "outputs": []
    },
    {
      "metadata": {
        "id": "fDs-8w0trqnJ",
        "colab_type": "code",
        "colab": {
          "base_uri": "https://localhost:8080/",
          "height": 35
        },
        "outputId": "0d7095e8-5756-4bc1-a9f6-b3c963de4c75"
      },
      "cell_type": "code",
      "source": [
        "test_labels = open('/content/gdrive/My Drive/Colab Notebooks/'+test_filename['labels'],'rb')\n",
        "magic, num = st.unpack(\">II\", test_labels.read(8))\n",
        "labels_test = np.fromfile(test_labels, dtype=np.int8)\n",
        "#labels = labels.reshape(labels.shape[0], 1)\n",
        "#labels = np.reshape(labels, (np.product(labels.shape, 1)))\n",
        "print(labels.shape)"
      ],
      "execution_count": 13,
      "outputs": [
        {
          "output_type": "stream",
          "text": [
            "(60000,)\n"
          ],
          "name": "stdout"
        }
      ]
    },
    {
      "metadata": {
        "id": "zXvmNQ5O8m0_",
        "colab_type": "code",
        "colab": {}
      },
      "cell_type": "code",
      "source": [
        "x_test = images_array_test\n",
        "y_test = labels_test"
      ],
      "execution_count": 0,
      "outputs": []
    },
    {
      "metadata": {
        "id": "SjpmXQ-k8sz1",
        "colab_type": "code",
        "colab": {
          "base_uri": "https://localhost:8080/",
          "height": 365
        },
        "outputId": "f8a30598-bc26-48f7-cb66-fa47e1fa5d37"
      },
      "cell_type": "code",
      "source": [
        "import matplotlib.pyplot as plt\n",
        "\n",
        "#plot the first image in the dataset\n",
        "plt.imshow(x_test[0])\n",
        "x_test[0].shape\n",
        "y_test[0]"
      ],
      "execution_count": 15,
      "outputs": [
        {
          "output_type": "execute_result",
          "data": {
            "text/plain": [
              "7"
            ]
          },
          "metadata": {
            "tags": []
          },
          "execution_count": 15
        },
        {
          "output_type": "display_data",
          "data": {
            "image/png": "[encoded data removed]",
            "text/plain": [
              "<matplotlib.figure.Figure at 0x7f83c554a550>"
            ]
          },
          "metadata": {
            "tags": []
          }
        }
      ]
    },
    {
      "metadata": {
        "id": "H5NTNN4vE9BD",
        "colab_type": "code",
        "colab": {
          "base_uri": "https://localhost:8080/",
          "height": 35
        },
        "outputId": "664ff2f6-10e0-49c5-f838-a5664f17fb7c"
      },
      "cell_type": "code",
      "source": [
        "x_test = x_test.reshape(images_array_test.shape[0],images_array_test.shape[1]*images_array_test.shape[2])\n",
        "x_test.shape"
      ],
      "execution_count": 16,
      "outputs": [
        {
          "output_type": "execute_result",
          "data": {
            "text/plain": [
              "(10000, 784)"
            ]
          },
          "metadata": {
            "tags": []
          },
          "execution_count": 16
        }
      ]
    },
    {
      "metadata": {
        "id": "hyH7tCihEnmZ",
        "colab_type": "code",
        "colab": {}
      },
      "cell_type": "code",
      "source": [
        "y_pred = classifier.predict(x_test)\n"
      ],
      "execution_count": 0,
      "outputs": []
    },
    {
      "metadata": {
        "id": "Hz7aqO2pFUHn",
        "colab_type": "code",
        "colab": {
          "base_uri": "https://localhost:8080/",
          "height": 201
        },
        "outputId": "bd29aee7-3566-4bad-bdd1-46845435dbbe"
      },
      "cell_type": "code",
      "source": [
        "from sklearn.metrics import confusion_matrix\n",
        "cm = confusion_matrix(y_test, y_pred)\n",
        "print(cm)\n"
      ],
      "execution_count": 19,
      "outputs": [
        {
          "output_type": "stream",
          "text": [
            "[[ 974    1    1    0    0    1    2    1    0    0]\n",
            " [   0 1133    2    0    0    0    0    0    0    0]\n",
            " [  11    8  991    2    1    0    1   15    3    0]\n",
            " [   0    3    3  976    1   13    1    6    3    4]\n",
            " [   3    7    0    0  944    0    4    2    1   21]\n",
            " [   5    0    0   12    2  862    4    1    2    4]\n",
            " [   5    3    0    0    3    2  945    0    0    0]\n",
            " [   0   22    4    0    3    0    0  988    0   11]\n",
            " [   8    3    5   13    6   12    5    5  913    4]\n",
            " [   5    7    3    9    7    3    1   10    2  962]]\n"
          ],
          "name": "stdout"
        }
      ]
    },
    {
      "metadata": {
        "id": "bbMILVmro_qW",
        "colab_type": "code",
        "colab": {
          "base_uri": "https://localhost:8080/",
          "height": 35
        },
        "outputId": "44d019b1-fcc8-4963-ff3a-483614c6db55"
      },
      "cell_type": "code",
      "source": [
        "correct = 0\n",
        "for i in range(10):\n",
        "  correct = correct+cm[i][i]\n",
        "print(\"% of accuracy = \"+str(100*correct/len(y_test)))"
      ],
      "execution_count": 20,
      "outputs": [
        {
          "output_type": "stream",
          "text": [
            "% of accuracy = 96.88\n"
          ],
          "name": "stdout"
        }
      ]
    }
  ]
}